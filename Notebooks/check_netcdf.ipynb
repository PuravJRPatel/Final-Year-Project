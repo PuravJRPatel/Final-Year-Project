{
 "cells": [
  {
   "cell_type": "code",
   "execution_count": 11,
   "metadata": {},
   "outputs": [],
   "source": [
    "import xarray as xr"
   ]
  },
  {
   "cell_type": "code",
   "execution_count": 12,
   "metadata": {},
   "outputs": [],
   "source": [
    "ds = xr.open_dataset(r\"C:\\Users\\purav\\OneDrive\\Desktop\\Fi Year Project\\Final-Year-Project\\Data\\Temperature\\Maxtemp_MaxT_2000.nc\")"
   ]
  },
  {
   "cell_type": "code",
   "execution_count": 13,
   "metadata": {},
   "outputs": [
    {
     "name": "stdout",
     "output_type": "stream",
     "text": [
      "<xarray.Dataset>\n",
      "Dimensions:      (time: 366, lat: 31, lon: 31)\n",
      "Coordinates:\n",
      "  * time         (time) datetime64[ns] 2023-01-01 2023-01-02 ... 2024-01-01\n",
      "  * lat          (lat) float64 7.5 8.5 9.5 10.5 11.5 ... 34.5 35.5 36.5 37.5\n",
      "  * lon          (lon) float64 67.5 68.5 69.5 70.5 71.5 ... 94.5 95.5 96.5 97.5\n",
      "Data variables:\n",
      "    temperature  (time, lat, lon) float32 ...\n",
      "Attributes:\n",
      "    description:  IMD 1°x1° Maximum Temperature Data from Maxtemp_MaxT_2000.GRD\n",
      "    units:        °C\n"
     ]
    }
   ],
   "source": [
    "print(ds)"
   ]
  },
  {
   "cell_type": "code",
   "execution_count": 14,
   "metadata": {},
   "outputs": [],
   "source": [
    "import numpy as np\n",
    "import xarray as xr\n",
    "import matplotlib.pyplot as plt\n",
    "from scipy.interpolate import griddata"
   ]
  },
  {
   "cell_type": "code",
   "execution_count": 15,
   "metadata": {},
   "outputs": [],
   "source": [
    "temp = ds['temperature'].values  \n",
    "lat = ds['lat'].values\n",
    "lon = ds['lon'].values\n",
    "ds.close()"
   ]
  },
  {
   "cell_type": "code",
   "execution_count": 16,
   "metadata": {},
   "outputs": [
    {
     "name": "stdout",
     "output_type": "stream",
     "text": [
      "Temperature shape: (366, 31, 31)\n",
      "Latitude shape: (31,)\n",
      "Longitude shape: (31,)\n"
     ]
    }
   ],
   "source": [
    "print(f\"Temperature shape: {temp.shape}\")  # Expected: (time, lat, lon)\n",
    "print(f\"Latitude shape: {lat.shape}\")  # Expected: (lat,)\n",
    "print(f\"Longitude shape: {lon.shape}\")  # Expected: (lon,)"
   ]
  },
  {
   "cell_type": "code",
   "execution_count": 18,
   "metadata": {},
   "outputs": [],
   "source": [
    "df = ds.to_dataframe().reset_index()"
   ]
  },
  {
   "cell_type": "code",
   "execution_count": 19,
   "metadata": {},
   "outputs": [],
   "source": [
    "csv_file = \"temperature_data.csv\"\n",
    "df.to_csv(csv_file, index=False)\n"
   ]
  }
 ],
 "metadata": {
  "kernelspec": {
   "display_name": "base",
   "language": "python",
   "name": "python3"
  },
  "language_info": {
   "codemirror_mode": {
    "name": "ipython",
    "version": 3
   },
   "file_extension": ".py",
   "mimetype": "text/x-python",
   "name": "python",
   "nbconvert_exporter": "python",
   "pygments_lexer": "ipython3",
   "version": "3.11.5"
  }
 },
 "nbformat": 4,
 "nbformat_minor": 2
}
