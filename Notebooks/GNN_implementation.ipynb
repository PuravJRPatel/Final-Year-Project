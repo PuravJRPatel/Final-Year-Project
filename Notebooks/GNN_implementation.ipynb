{
 "cells": [
  {
   "cell_type": "code",
   "execution_count": 1,
   "metadata": {},
   "outputs": [
    {
     "name": "stderr",
     "output_type": "stream",
     "text": [
      "c:\\Users\\purav\\anaconda3\\Lib\\site-packages\\pandas\\core\\arrays\\masked.py:60: UserWarning: Pandas requires version '1.3.6' or newer of 'bottleneck' (version '1.3.5' currently installed).\n",
      "  from pandas.core import (\n"
     ]
    }
   ],
   "source": [
    "import geopandas as gpd\n",
    "import numpy as np\n",
    "import networkx as nx\n",
    "import matplotlib.pyplot as plt\n",
    "from scipy.spatial import cKDTree\n",
    "\n",
    "\n",
    "grid_path = r\"C:\\Users\\purav\\OneDrive\\Desktop\\Fi Year Project\\Final-Year-Project\\Data\\Processed\\grid_with_data.geojson\"\n",
    "grid = gpd.read_file(grid_path)"
   ]
  },
  {
   "cell_type": "code",
   "execution_count": 2,
   "metadata": {},
   "outputs": [
    {
     "name": "stdout",
     "output_type": "stream",
     "text": [
      "Index(['FID', 'rainfall_2000', 'rainfall_2001', 'rainfall_2002',\n",
      "       'rainfall_2003', 'rainfall_2004', 'rainfall_2005', 'rainfall_2006',\n",
      "       'rainfall_2007', 'rainfall_2008', 'rainfall_2009', 'rainfall_2010',\n",
      "       'rainfall_2011', 'rainfall_2012', 'rainfall_2013', 'rainfall_2014',\n",
      "       'rainfall_2015', 'rainfall_2016', 'rainfall_2017', 'rainfall_2018',\n",
      "       'rainfall_2019', 'rainfall_2020', 'rainfall_2021', 'rainfall_2022',\n",
      "       'rainfall_2023', 'temperature_2000', 'temperature_2001',\n",
      "       'temperature_2002', 'temperature_2003', 'temperature_2004',\n",
      "       'temperature_2005', 'temperature_2006', 'temperature_2007',\n",
      "       'temperature_2008', 'temperature_2009', 'temperature_2010',\n",
      "       'temperature_2011', 'temperature_2012', 'temperature_2013',\n",
      "       'temperature_2014', 'temperature_2015', 'temperature_2016',\n",
      "       'temperature_2017', 'temperature_2018', 'temperature_2019',\n",
      "       'temperature_2020', 'temperature_2021', 'temperature_2022',\n",
      "       'temperature_2023', 'geometry'],\n",
      "      dtype='object')\n"
     ]
    }
   ],
   "source": [
    "print(grid.columns)\n"
   ]
  },
  {
   "cell_type": "code",
   "execution_count": 5,
   "metadata": {},
   "outputs": [
    {
     "name": "stderr",
     "output_type": "stream",
     "text": [
      "C:\\Users\\purav\\AppData\\Local\\Temp\\ipykernel_14624\\174489241.py:5: UserWarning: Geometry is in a geographic CRS. Results from 'centroid' are likely incorrect. Use 'GeoSeries.to_crs()' to re-project geometries to a projected CRS before this operation.\n",
      "\n",
      "  grid[\"centroid\"] = grid.geometry.centroid\n"
     ]
    }
   ],
   "source": [
    "from scipy.spatial import cKDTree\n",
    "import numpy as np\n",
    "\n",
    "# Extract centroids as node positions\n",
    "grid[\"centroid\"] = grid.geometry.centroid\n",
    "node_positions = np.array([(p.x, p.y) for p in grid[\"centroid\"]])\n",
    "\n",
    "# Build KDTree for nearest neighbor search\n",
    "tree = cKDTree(node_positions)\n",
    "k = 8  # Number of nearest neighbors\n",
    "distances, indices = tree.query(node_positions, k=k+1)  # +1 to exclude self"
   ]
  },
  {
   "cell_type": "code",
   "execution_count": 7,
   "metadata": {},
   "outputs": [],
   "source": [
    "G = nx.Graph()"
   ]
  },
  {
   "cell_type": "code",
   "execution_count": 12,
   "metadata": {},
   "outputs": [],
   "source": [
    "for year in range(2000, 2024):\n",
    "    for i in range(len(grid)):\n",
    "        G.add_node((i, year), \n",
    "                   temperature=grid.loc[i, f\"temperature_{year}\"], \n",
    "                   rainfall=grid.loc[i, f\"rainfall_{year}\"])\n"
   ]
  },
  {
   "cell_type": "code",
   "execution_count": 14,
   "metadata": {},
   "outputs": [],
   "source": [
    "for year in range(2000, 2024):\n",
    "    for i, neighbors in enumerate(indices):\n",
    "        for j in neighbors[1:]:  # Skip self\n",
    "            if j >= len(grid):  # Ensure index is valid\n",
    "                continue\n",
    "\n",
    "            temp_sim = abs(grid.loc[i, f\"temperature_{year}\"] - grid.loc[j, f\"temperature_{year}\"])\n",
    "            rain_sim = abs(grid.loc[i, f\"rainfall_{year}\"] - grid.loc[j, f\"rainfall_{year}\"])\n",
    "            \n",
    "            # Spatial weight: temperature has the most impact, then rainfall, then distance\n",
    "            weight = 1 / (1 + 2 * temp_sim + rain_sim + distances[i][np.where(indices[i] == j)[0][0]])\n",
    "\n",
    "            # Add edge in the same year\n",
    "            G.add_edge((i, year), (j, year), weight=weight)\n"
   ]
  },
  {
   "cell_type": "code",
   "execution_count": 15,
   "metadata": {},
   "outputs": [],
   "source": [
    "for year in range(2000, 2023):  # From 2000 to 2022 (connecting to next year)\n",
    "    for i in range(len(grid)):\n",
    "        temp_diff = abs(grid.loc[i, f\"temperature_{year+1}\"] - grid.loc[i, f\"temperature_{year}\"])\n",
    "        rain_diff = abs(grid.loc[i, f\"rainfall_{year+1}\"] - grid.loc[i, f\"rainfall_{year}\"])\n",
    "        \n",
    "        # Temporal edges have lower influence than spatial\n",
    "        weight = 1 / (1 + 0.5 * temp_diff + 0.2 * rain_diff)\n",
    "        \n",
    "        # Unidirectional edge (past → future)\n",
    "        G.add_edge((i, year), (i, year + 1), weight=weight)\n"
   ]
  },
  {
   "cell_type": "code",
   "execution_count": 16,
   "metadata": {},
   "outputs": [
    {
     "name": "stdout",
     "output_type": "stream",
     "text": [
      "120960 nodes in the graph\n",
      "615576 edges in the graph\n",
      "[((0, 2000), (126, 2000), {'weight': 0.17767931216190805}), ((0, 2000), (2, 2000), {'weight': 0.40750810292512457}), ((0, 2000), (136, 2000), {'weight': 0.4991863211498181}), ((0, 2000), (124, 2000), {'weight': 0.17264608191373151}), ((0, 2000), (1, 2000), {'weight': 0.41318839614213815}), ((0, 2000), (125, 2000), {'weight': 0.1829518777347174}), ((0, 2000), (4, 2000), {'weight': 0.372857806768115}), ((0, 2000), (134, 2000), {'weight': 0.1552408893377639}), ((0, 2000), (0, 2001), {'weight': 0.6730600862535909}), ((126, 2000), (2, 2000), {'weight': 0.14181570178889755})]\n"
     ]
    }
   ],
   "source": [
    "print(len(G.nodes), \"nodes in the graph\")\n",
    "print(len(G.edges), \"edges in the graph\")\n",
    "print(list(G.edges(data=True))[:10])  # Print first 10 edges\n"
   ]
  }
 ],
 "metadata": {
  "kernelspec": {
   "display_name": "base",
   "language": "python",
   "name": "python3"
  },
  "language_info": {
   "codemirror_mode": {
    "name": "ipython",
    "version": 3
   },
   "file_extension": ".py",
   "mimetype": "text/x-python",
   "name": "python",
   "nbconvert_exporter": "python",
   "pygments_lexer": "ipython3",
   "version": "3.11.5"
  }
 },
 "nbformat": 4,
 "nbformat_minor": 2
}
