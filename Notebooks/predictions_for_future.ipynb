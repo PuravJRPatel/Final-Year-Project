{
 "cells": [
  {
   "cell_type": "code",
   "execution_count": 1,
   "metadata": {},
   "outputs": [
    {
     "name": "stdout",
     "output_type": "stream",
     "text": [
      "Predictions for 2024 saved!\n",
      "Predictions for 2025 saved!\n",
      "Predictions for 2026 saved!\n",
      "Predictions for 2027 saved!\n",
      "Future predictions completed and saved.\n"
     ]
    }
   ],
   "source": [
    "import torch\n",
    "import torch.nn as nn\n",
    "import torch.optim as optim\n",
    "import os\n",
    "\n",
    "class LSTMModel(nn.Module):\n",
    "    def __init__(self, input_dim, hidden_dim=16, num_layers=2):\n",
    "        super(LSTMModel, self).__init__()\n",
    "        self.lstm = nn.LSTM(input_dim, hidden_dim, num_layers, batch_first=True)\n",
    "        self.fc = nn.Linear(hidden_dim, input_dim)\n",
    "\n",
    "    def forward(self, x):\n",
    "        lstm_out, _ = self.lstm(x)\n",
    "        output = self.fc(lstm_out[:, -1, :])\n",
    "        return output\n",
    "\n",
    "# Load embeddings\n",
    "graph_dir = \"graph_embeddings\"\n",
    "years = list(range(2000, 2024))\n",
    "embeddings = {year: torch.load(os.path.join(graph_dir, f\"embeddings_{year}.pt\")) for year in years}\n",
    "\n",
    "# Prepare data for prediction\n",
    "window_size = 10\n",
    "num_nodes, features = embeddings[2000].shape\n",
    "input_dim = num_nodes * features\n",
    "\n",
    "lstm_model = LSTMModel(input_dim)\n",
    "lstm_model.load_state_dict(torch.load(\"lstm_model.pth\"))\n",
    "lstm_model.eval()\n",
    "\n",
    "# Predict for future years (2024-2027)\n",
    "predicted_years = range(2024, 2028)\n",
    "future_embeddings = {}\n",
    "\n",
    "past_10_years = [embeddings[year] for year in range(2014, 2024)]\n",
    "input_seq = torch.stack(past_10_years).unsqueeze(0).reshape(1, window_size, input_dim)\n",
    "\n",
    "for year in predicted_years:\n",
    "    predicted_embeddings = lstm_model(input_seq).squeeze(0).reshape(num_nodes, features)\n",
    "    future_embeddings[year] = predicted_embeddings.detach()\n",
    "    torch.save(predicted_embeddings, f\"{graph_dir}/embeddings_{year}.pt\")\n",
    "    print(f\"Predictions for {year} saved!\")\n",
    "\n",
    "    # Update input sequence by appending the predicted year and removing the oldest year\n",
    "    input_seq = torch.cat([input_seq[:, 1:, :], predicted_embeddings.unsqueeze(0).reshape(1, 1, input_dim)], dim=1)\n",
    "\n",
    "print(\"Future predictions completed and saved.\")\n"
   ]
  },
  {
   "cell_type": "code",
   "execution_count": null,
   "metadata": {},
   "outputs": [],
   "source": []
  }
 ],
 "metadata": {
  "kernelspec": {
   "display_name": "base",
   "language": "python",
   "name": "python3"
  },
  "language_info": {
   "codemirror_mode": {
    "name": "ipython",
    "version": 3
   },
   "file_extension": ".py",
   "mimetype": "text/x-python",
   "name": "python",
   "nbconvert_exporter": "python",
   "pygments_lexer": "ipython3",
   "version": "3.11.5"
  }
 },
 "nbformat": 4,
 "nbformat_minor": 2
}
