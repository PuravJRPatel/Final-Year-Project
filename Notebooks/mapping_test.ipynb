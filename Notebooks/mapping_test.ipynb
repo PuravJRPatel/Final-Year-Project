{
 "cells": [
  {
   "cell_type": "code",
   "execution_count": 1,
   "metadata": {},
   "outputs": [
    {
     "name": "stderr",
     "output_type": "stream",
     "text": [
      "c:\\Users\\purav\\anaconda3\\Lib\\site-packages\\pandas\\core\\arrays\\masked.py:60: UserWarning: Pandas requires version '1.3.6' or newer of 'bottleneck' (version '1.3.5' currently installed).\n",
      "  from pandas.core import (\n"
     ]
    }
   ],
   "source": [
    "import xarray as xr\n",
    "import numpy as np"
   ]
  },
  {
   "cell_type": "code",
   "execution_count": 2,
   "metadata": {},
   "outputs": [
    {
     "name": "stdout",
     "output_type": "stream",
     "text": [
      "<xarray.Dataset>\n",
      "Dimensions:    (LONGITUDE: 135, LATITUDE: 129, TIME: 366)\n",
      "Coordinates:\n",
      "  * LONGITUDE  (LONGITUDE) float64 66.5 66.75 67.0 67.25 ... 99.5 99.75 100.0\n",
      "  * LATITUDE   (LATITUDE) float64 6.5 6.75 7.0 7.25 ... 37.75 38.0 38.25 38.5\n",
      "  * TIME       (TIME) datetime64[ns] 2000-01-01 2000-01-02 ... 2000-12-31\n",
      "Data variables:\n",
      "    RAINFALL   (TIME, LATITUDE, LONGITUDE) float64 ...\n",
      "Attributes:\n",
      "    history:      FERRET V7.5 (optimized) 20-Jan-23\n",
      "    Conventions:  CF-1.6\n"
     ]
    }
   ],
   "source": [
    "nc_file = r\"C:\\Users\\purav\\OneDrive\\Desktop\\Fi Year Project\\Final-Year-Project\\Data\\Rainfall\\RF25_ind2000_rfp25.nc\"\n",
    "ds = xr.open_dataset(nc_file)\n",
    "\n",
    "print(ds)"
   ]
  },
  {
   "cell_type": "code",
   "execution_count": 5,
   "metadata": {},
   "outputs": [],
   "source": [
    "rainfall = ds['RAINFALL']\n",
    "rainfall = rainfall.where(rainfall != \"NaN\",0)\n",
    "avg_rainfall = rainfall.mean(dim= 'TIME')\n",
    "avg_rainfall = avg_rainfall.fillna(0)\n",
    "avg_rainfall.to_netcdf(\"average_rainfall.nc\")"
   ]
  },
  {
   "cell_type": "code",
   "execution_count": null,
   "metadata": {},
   "outputs": [],
   "source": []
  }
 ],
 "metadata": {
  "kernelspec": {
   "display_name": "base",
   "language": "python",
   "name": "python3"
  },
  "language_info": {
   "codemirror_mode": {
    "name": "ipython",
    "version": 3
   },
   "file_extension": ".py",
   "mimetype": "text/x-python",
   "name": "python",
   "nbconvert_exporter": "python",
   "pygments_lexer": "ipython3",
   "version": "3.11.5"
  }
 },
 "nbformat": 4,
 "nbformat_minor": 2
}
